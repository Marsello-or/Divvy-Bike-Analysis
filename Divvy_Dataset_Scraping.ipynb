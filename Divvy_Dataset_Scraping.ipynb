{
  "nbformat": 4,
  "nbformat_minor": 0,
  "metadata": {
    "colab": {
      "provenance": []
    },
    "kernelspec": {
      "name": "python3",
      "display_name": "Python 3"
    },
    "language_info": {
      "name": "python"
    }
  },
  "cells": [
    {
      "cell_type": "markdown",
      "source": [
        "# Dataset Scraping and Cleaning from the source\n",
        "Dataset scraping using beautifulsoup library\n",
        "---\n",
        "---\n",
        "Dataset source : [(Dataset Source)](https://divvy-tripdata.s3.amazonaws.com/index.html)\n"
      ],
      "metadata": {
        "id": "Jj3px10_OmLA"
      }
    },
    {
      "cell_type": "markdown",
      "source": [
        "# Import Library\n",
        "---"
      ],
      "metadata": {
        "id": "sXi1VPR4PAZt"
      }
    },
    {
      "cell_type": "code",
      "execution_count": 2,
      "metadata": {
        "colab": {
          "base_uri": "https://localhost:8080/"
        },
        "id": "lpLL8EMqOCDM",
        "outputId": "0f1e3921-51dc-4b3e-b934-7ceaf8e7b803"
      },
      "outputs": [
        {
          "output_type": "stream",
          "name": "stdout",
          "text": [
            "Instalasi library yang dibutuhkan telah selesai.\n"
          ]
        }
      ],
      "source": [
        "!pip install requests beautifulsoup4 pandas --quiet\n",
        "print(\"Instalasi library yang dibutuhkan telah selesai.\")"
      ]
    },
    {
      "cell_type": "code",
      "source": [
        "import os\n",
        "import requests\n",
        "from bs4 import BeautifulSoup\n",
        "from urllib.parse import urljoin\n",
        "import zipfile\n",
        "import pandas as pd\n",
        "import glob"
      ],
      "metadata": {
        "id": "Udd_pdkAPFO2"
      },
      "execution_count": 3,
      "outputs": []
    },
    {
      "cell_type": "markdown",
      "source": [
        "# Configuration\n",
        "---"
      ],
      "metadata": {
        "id": "qBwy4qz9PMBH"
      }
    },
    {
      "cell_type": "code",
      "source": [
        "CSV_FILE_NAME = f\"Fixed_Dataset.csv\""
      ],
      "metadata": {
        "id": "0n43cWKHPJi6"
      },
      "execution_count": 4,
      "outputs": []
    },
    {
      "cell_type": "markdown",
      "source": [
        "# Retrieve News URL List from Home Page\n",
        "---"
      ],
      "metadata": {
        "id": "iSwBT44SPYSA"
      }
    },
    {
      "cell_type": "code",
      "source": [
        "import requests\n",
        "import xml.etree.ElementTree as ET\n",
        "import pandas as pd\n",
        "\n",
        "# The page URL, which is also the base for the API request\n",
        "url = \"https://divvy-tripdata.s3.amazonaws.com/\"\n",
        "\n",
        "print(f\"Requesting data from S3 API at: {url}\")\n",
        "\n",
        "# Make the same request the JavaScript does\n",
        "response = requests.get(url)\n",
        "response.raise_for_status() # Ensure the request was successful\n",
        "\n",
        "# The response is XML, not HTML\n",
        "xml_data = response.content\n",
        "\n",
        "# Parse the XML data\n",
        "root = ET.fromstring(xml_data)\n",
        "\n",
        "# Namespace is required to find elements in S3's XML\n",
        "namespace = {'s3': 'http://s3.amazonaws.com/doc/2006-03-01/'}\n",
        "\n",
        "file_links = []\n",
        "# Find all 'Contents' tags, which represent files\n",
        "for content in root.findall('s3:Contents', namespace):\n",
        "    key = content.find('s3:Key', namespace).text\n",
        "    # We only want links to .zip files\n",
        "    if key.endswith('.zip'):\n",
        "        link = url + key\n",
        "        file_links.append(link)\n",
        "\n",
        "print(f\"\\nSuccessfully found {len(file_links)} zip file links.\")\n",
        "\n",
        "# Display the first 10 links\n",
        "for link in file_links[:10]:\n",
        "    print(link)\n",
        "\n",
        "# You can easily put this into a pandas DataFrame\n",
        "df = pd.DataFrame(file_links, columns=['download_url'])\n",
        "print(\"\\n--- DataFrame Head ---\")\n",
        "print(df.head())"
      ],
      "metadata": {
        "colab": {
          "base_uri": "https://localhost:8080/"
        },
        "id": "DBS534pJS4y-",
        "outputId": "0137e513-5f4e-4296-8cf7-1c03538e2b01"
      },
      "execution_count": 5,
      "outputs": [
        {
          "output_type": "stream",
          "name": "stdout",
          "text": [
            "Requesting data from S3 API at: https://divvy-tripdata.s3.amazonaws.com/\n",
            "\n",
            "Successfully found 81 zip file links.\n",
            "https://divvy-tripdata.s3.amazonaws.com/202004-divvy-tripdata.zip\n",
            "https://divvy-tripdata.s3.amazonaws.com/202005-divvy-tripdata.zip\n",
            "https://divvy-tripdata.s3.amazonaws.com/202006-divvy-tripdata.zip\n",
            "https://divvy-tripdata.s3.amazonaws.com/202007-divvy-tripdata.zip\n",
            "https://divvy-tripdata.s3.amazonaws.com/202008-divvy-tripdata.zip\n",
            "https://divvy-tripdata.s3.amazonaws.com/202009-divvy-tripdata.zip\n",
            "https://divvy-tripdata.s3.amazonaws.com/202010-divvy-tripdata.zip\n",
            "https://divvy-tripdata.s3.amazonaws.com/202011-divvy-tripdata.zip\n",
            "https://divvy-tripdata.s3.amazonaws.com/202012-divvy-tripdata.zip\n",
            "https://divvy-tripdata.s3.amazonaws.com/202101-divvy-tripdata.zip\n",
            "\n",
            "--- DataFrame Head ---\n",
            "                                        download_url\n",
            "0  https://divvy-tripdata.s3.amazonaws.com/202004...\n",
            "1  https://divvy-tripdata.s3.amazonaws.com/202005...\n",
            "2  https://divvy-tripdata.s3.amazonaws.com/202006...\n",
            "3  https://divvy-tripdata.s3.amazonaws.com/202007...\n",
            "4  https://divvy-tripdata.s3.amazonaws.com/202008...\n"
          ]
        }
      ]
    },
    {
      "cell_type": "markdown",
      "source": [
        "# Extracting and Downloading the last zip file that contained on the download URL\n",
        "---"
      ],
      "metadata": {
        "id": "RBqwmm-tYaXu"
      }
    },
    {
      "cell_type": "code",
      "source": [
        "import os\n",
        "import requests\n",
        "import zipfile\n",
        "import pandas as pd\n",
        "import glob\n",
        "import shutil\n",
        "\n",
        "# --- Setup ---\n",
        "# Use a more descriptive name for the temporary directory\n",
        "temp_dir = 'divvy_data_temp'\n",
        "os.makedirs(temp_dir, exist_ok=True)\n",
        "\n",
        "# List to hold each individual DataFrame\n",
        "all_dataframes = []\n",
        "\n",
        "# Assuming 'file_links' is a list of URLs from the previous step\n",
        "# Change the slice to get only the last link\n",
        "download_urls = [file_links[-1]] # Select only the last element\n",
        "\n",
        "print(f\"✅ Preparing to download and process {len(download_urls)} zip files.\")\n",
        "\n",
        "# --- Main Processing Loop ---\n",
        "for url in download_urls:\n",
        "    zip_filename = os.path.basename(url)\n",
        "    zip_filepath = os.path.join(temp_dir, zip_filename)\n",
        "\n",
        "    try:\n",
        "        # 1. DOWNLOAD the single zip file\n",
        "        print(f\"Downloading: {zip_filename}...\")\n",
        "        response = requests.get(url, stream=True)\n",
        "        response.raise_for_status()\n",
        "        with open(zip_filepath, 'wb') as f:\n",
        "            for chunk in response.iter_content(chunk_size=8192):\n",
        "                f.write(chunk)\n",
        "\n",
        "        # 2. EXTRACT the specific CSV from the zip\n",
        "        with zipfile.ZipFile(zip_filepath, 'r') as zip_ref:\n",
        "            # Find the CSV filename inside the zip archive to avoid ambiguity\n",
        "            csv_filename = None\n",
        "            for name in zip_ref.namelist():\n",
        "                if name.endswith('.csv') and not name.startswith('__MACOSX'):\n",
        "                    csv_filename = name\n",
        "                    break\n",
        "\n",
        "            if not csv_filename:\n",
        "                print(f\"⚠️ Warning: No CSV file found in {zip_filename}. Skipping.\")\n",
        "                continue\n",
        "\n",
        "            # Extract only that one CSV file\n",
        "            zip_ref.extract(csv_filename, path=temp_dir)\n",
        "            csv_filepath = os.path.join(temp_dir, csv_filename)\n",
        "\n",
        "        # 3. READ the single CSV and add its DataFrame to our list\n",
        "        print(f\"   -- Reading {csv_filename}...\")\n",
        "        df = pd.read_csv(csv_filepath)\n",
        "        all_dataframes.append(df)\n",
        "        print(f\"   -- ✅ Appended data from {csv_filename}\")\n",
        "\n",
        "    except Exception as e:\n",
        "        print(f\"❌ Error processing {url}: {e}\")\n",
        "\n",
        "    finally:\n",
        "        # 4. CLEAN UP the used files inside the loop to ensure a clean state\n",
        "        if 'csv_filepath' in locals() and os.path.exists(csv_filepath):\n",
        "            os.remove(csv_filepath)\n",
        "        if os.path.exists(zip_filepath):\n",
        "            os.remove(zip_filepath)\n",
        "\n",
        "# --- Final Combination ---\n",
        "if all_dataframes:\n",
        "    print(\"\\n⏳ Combining all DataFrames into a final result...\")\n",
        "    final_combined_df = pd.concat(all_dataframes, ignore_index=True)\n",
        "\n",
        "    print(\"\\n--- ✅ Final Combined DataFrame ---\")\n",
        "    print(final_combined_df.info())\n",
        "    print(\"\\n--- Head ---\")\n",
        "    print(final_combined_df.head())\n",
        "    print(\"\\n--- Tail ---\")\n",
        "    print(final_combined_df.tail())\n",
        "else:\n",
        "    print(\"❌ No dataframes were successfully processed.\")\n",
        "\n",
        "# --- Final Cleanup ---\n",
        "# Remove the temporary directory\n",
        "if os.path.exists(temp_dir):\n",
        "    shutil.rmtree(temp_dir)\n",
        "print(f\"\\n🗑️ Cleaned up temporary directory: {temp_dir}\")"
      ],
      "metadata": {
        "colab": {
          "base_uri": "https://localhost:8080/"
        },
        "id": "eOiboykgf5n1",
        "outputId": "eafc6da6-8bdc-4e3f-9e12-29c09808af5c"
      },
      "execution_count": 6,
      "outputs": [
        {
          "output_type": "stream",
          "name": "stdout",
          "text": [
            "✅ Preparing to download and process 1 zip files.\n",
            "Downloading: Divvy_Trips_2020_Q1.zip...\n",
            "   -- Reading Divvy_Trips_2020_Q1.csv...\n",
            "   -- ✅ Appended data from Divvy_Trips_2020_Q1.csv\n",
            "\n",
            "⏳ Combining all DataFrames into a final result...\n",
            "\n",
            "--- ✅ Final Combined DataFrame ---\n",
            "<class 'pandas.core.frame.DataFrame'>\n",
            "RangeIndex: 426887 entries, 0 to 426886\n",
            "Data columns (total 13 columns):\n",
            " #   Column              Non-Null Count   Dtype  \n",
            "---  ------              --------------   -----  \n",
            " 0   ride_id             426887 non-null  object \n",
            " 1   rideable_type       426887 non-null  object \n",
            " 2   started_at          426887 non-null  object \n",
            " 3   ended_at            426887 non-null  object \n",
            " 4   start_station_name  426887 non-null  object \n",
            " 5   start_station_id    426887 non-null  int64  \n",
            " 6   end_station_name    426886 non-null  object \n",
            " 7   end_station_id      426886 non-null  float64\n",
            " 8   start_lat           426887 non-null  float64\n",
            " 9   start_lng           426887 non-null  float64\n",
            " 10  end_lat             426886 non-null  float64\n",
            " 11  end_lng             426886 non-null  float64\n",
            " 12  member_casual       426887 non-null  object \n",
            "dtypes: float64(5), int64(1), object(7)\n",
            "memory usage: 42.3+ MB\n",
            "None\n",
            "\n",
            "--- Head ---\n",
            "            ride_id rideable_type           started_at             ended_at  \\\n",
            "0  EACB19130B0CDA4A   docked_bike  2020-01-21 20:06:59  2020-01-21 20:14:30   \n",
            "1  8FED874C809DC021   docked_bike  2020-01-30 14:22:39  2020-01-30 14:26:22   \n",
            "2  789F3C21E472CA96   docked_bike  2020-01-09 19:29:26  2020-01-09 19:32:17   \n",
            "3  C9A388DAC6ABF313   docked_bike  2020-01-06 16:17:07  2020-01-06 16:25:56   \n",
            "4  943BC3CBECCFD662   docked_bike  2020-01-30 08:37:16  2020-01-30 08:42:48   \n",
            "\n",
            "         start_station_name  start_station_id                end_station_name  \\\n",
            "0  Western Ave & Leland Ave               239           Clark St & Leland Ave   \n",
            "1   Clark St & Montrose Ave               234  Southport Ave & Irving Park Rd   \n",
            "2    Broadway & Belmont Ave               296        Wilton Ave & Belmont Ave   \n",
            "3    Clark St & Randolph St                51        Fairbanks Ct & Grand Ave   \n",
            "4      Clinton St & Lake St                66           Wells St & Hubbard St   \n",
            "\n",
            "   end_station_id  start_lat  start_lng  end_lat  end_lng member_casual  \n",
            "0           326.0    41.9665   -87.6884  41.9671 -87.6674        member  \n",
            "1           318.0    41.9616   -87.6660  41.9542 -87.6644        member  \n",
            "2           117.0    41.9401   -87.6455  41.9402 -87.6530        member  \n",
            "3            24.0    41.8846   -87.6319  41.8918 -87.6206        member  \n",
            "4           212.0    41.8856   -87.6418  41.8899 -87.6343        member  \n",
            "\n",
            "--- Tail ---\n",
            "                 ride_id rideable_type           started_at  \\\n",
            "426882  ADDAA33CEBCAE733   docked_bike  2020-03-10 10:40:06   \n",
            "426883  82B10FA3994BC66A   docked_bike  2020-03-07 15:25:55   \n",
            "426884  AA0D5AAA0B59C8AA   docked_bike  2020-03-01 13:12:38   \n",
            "426885  3296360A7BC20FB8   docked_bike  2020-03-07 18:02:45   \n",
            "426886  064EC7698E4FF9B3   docked_bike  2020-03-08 13:03:57   \n",
            "\n",
            "                   ended_at         start_station_name  start_station_id  \\\n",
            "426882  2020-03-10 10:40:07                      HQ QR               675   \n",
            "426883  2020-03-07 16:14:03      Rush St & Superior St               161   \n",
            "426884  2020-03-01 13:38:29     Clark St & Lincoln Ave               141   \n",
            "426885  2020-03-07 18:13:18  Franklin St & Illinois St               672   \n",
            "426886  2020-03-08 13:32:27      Dearborn St & Erie St               110   \n",
            "\n",
            "                    end_station_name  end_station_id  start_lat  start_lng  \\\n",
            "426882                         HQ QR           675.0    41.8899   -87.6803   \n",
            "426883  Sheridan Rd & Irving Park Rd           240.0    41.8958   -87.6259   \n",
            "426884     Ashland Ave & Division St           210.0    41.9157   -87.6346   \n",
            "426885  Stetson Ave & South Water St           264.0    41.8910   -87.6355   \n",
            "426886         Michigan Ave & Oak St            85.0    41.8940   -87.6293   \n",
            "\n",
            "        end_lat  end_lng member_casual  \n",
            "426882  41.8899 -87.6803        casual  \n",
            "426883  41.9542 -87.6544        member  \n",
            "426884  41.9035 -87.6677        casual  \n",
            "426885  41.8868 -87.6223        member  \n",
            "426886  41.9010 -87.6238        casual  \n",
            "\n",
            "🗑️ Cleaned up temporary directory: divvy_data_temp\n"
          ]
        }
      ]
    },
    {
      "cell_type": "markdown",
      "source": [
        "## Testing Extracted Data\n",
        "---"
      ],
      "metadata": {
        "id": "vuWXDX2pYkel"
      }
    },
    {
      "cell_type": "code",
      "source": [
        "final_combined_df.head(5)"
      ],
      "metadata": {
        "colab": {
          "base_uri": "https://localhost:8080/",
          "height": 206
        },
        "id": "-fkFqA1FlBrM",
        "outputId": "3fe48ccb-aa4e-4b48-83fc-28442bf08746"
      },
      "execution_count": 7,
      "outputs": [
        {
          "output_type": "execute_result",
          "data": {
            "text/plain": [
              "            ride_id rideable_type           started_at             ended_at  \\\n",
              "0  EACB19130B0CDA4A   docked_bike  2020-01-21 20:06:59  2020-01-21 20:14:30   \n",
              "1  8FED874C809DC021   docked_bike  2020-01-30 14:22:39  2020-01-30 14:26:22   \n",
              "2  789F3C21E472CA96   docked_bike  2020-01-09 19:29:26  2020-01-09 19:32:17   \n",
              "3  C9A388DAC6ABF313   docked_bike  2020-01-06 16:17:07  2020-01-06 16:25:56   \n",
              "4  943BC3CBECCFD662   docked_bike  2020-01-30 08:37:16  2020-01-30 08:42:48   \n",
              "\n",
              "         start_station_name  start_station_id                end_station_name  \\\n",
              "0  Western Ave & Leland Ave               239           Clark St & Leland Ave   \n",
              "1   Clark St & Montrose Ave               234  Southport Ave & Irving Park Rd   \n",
              "2    Broadway & Belmont Ave               296        Wilton Ave & Belmont Ave   \n",
              "3    Clark St & Randolph St                51        Fairbanks Ct & Grand Ave   \n",
              "4      Clinton St & Lake St                66           Wells St & Hubbard St   \n",
              "\n",
              "   end_station_id  start_lat  start_lng  end_lat  end_lng member_casual  \n",
              "0           326.0    41.9665   -87.6884  41.9671 -87.6674        member  \n",
              "1           318.0    41.9616   -87.6660  41.9542 -87.6644        member  \n",
              "2           117.0    41.9401   -87.6455  41.9402 -87.6530        member  \n",
              "3            24.0    41.8846   -87.6319  41.8918 -87.6206        member  \n",
              "4           212.0    41.8856   -87.6418  41.8899 -87.6343        member  "
            ],
            "text/html": [
              "\n",
              "  <div id=\"df-1273b838-4ee2-4357-a005-cd606e178209\" class=\"colab-df-container\">\n",
              "    <div>\n",
              "<style scoped>\n",
              "    .dataframe tbody tr th:only-of-type {\n",
              "        vertical-align: middle;\n",
              "    }\n",
              "\n",
              "    .dataframe tbody tr th {\n",
              "        vertical-align: top;\n",
              "    }\n",
              "\n",
              "    .dataframe thead th {\n",
              "        text-align: right;\n",
              "    }\n",
              "</style>\n",
              "<table border=\"1\" class=\"dataframe\">\n",
              "  <thead>\n",
              "    <tr style=\"text-align: right;\">\n",
              "      <th></th>\n",
              "      <th>ride_id</th>\n",
              "      <th>rideable_type</th>\n",
              "      <th>started_at</th>\n",
              "      <th>ended_at</th>\n",
              "      <th>start_station_name</th>\n",
              "      <th>start_station_id</th>\n",
              "      <th>end_station_name</th>\n",
              "      <th>end_station_id</th>\n",
              "      <th>start_lat</th>\n",
              "      <th>start_lng</th>\n",
              "      <th>end_lat</th>\n",
              "      <th>end_lng</th>\n",
              "      <th>member_casual</th>\n",
              "    </tr>\n",
              "  </thead>\n",
              "  <tbody>\n",
              "    <tr>\n",
              "      <th>0</th>\n",
              "      <td>EACB19130B0CDA4A</td>\n",
              "      <td>docked_bike</td>\n",
              "      <td>2020-01-21 20:06:59</td>\n",
              "      <td>2020-01-21 20:14:30</td>\n",
              "      <td>Western Ave &amp; Leland Ave</td>\n",
              "      <td>239</td>\n",
              "      <td>Clark St &amp; Leland Ave</td>\n",
              "      <td>326.0</td>\n",
              "      <td>41.9665</td>\n",
              "      <td>-87.6884</td>\n",
              "      <td>41.9671</td>\n",
              "      <td>-87.6674</td>\n",
              "      <td>member</td>\n",
              "    </tr>\n",
              "    <tr>\n",
              "      <th>1</th>\n",
              "      <td>8FED874C809DC021</td>\n",
              "      <td>docked_bike</td>\n",
              "      <td>2020-01-30 14:22:39</td>\n",
              "      <td>2020-01-30 14:26:22</td>\n",
              "      <td>Clark St &amp; Montrose Ave</td>\n",
              "      <td>234</td>\n",
              "      <td>Southport Ave &amp; Irving Park Rd</td>\n",
              "      <td>318.0</td>\n",
              "      <td>41.9616</td>\n",
              "      <td>-87.6660</td>\n",
              "      <td>41.9542</td>\n",
              "      <td>-87.6644</td>\n",
              "      <td>member</td>\n",
              "    </tr>\n",
              "    <tr>\n",
              "      <th>2</th>\n",
              "      <td>789F3C21E472CA96</td>\n",
              "      <td>docked_bike</td>\n",
              "      <td>2020-01-09 19:29:26</td>\n",
              "      <td>2020-01-09 19:32:17</td>\n",
              "      <td>Broadway &amp; Belmont Ave</td>\n",
              "      <td>296</td>\n",
              "      <td>Wilton Ave &amp; Belmont Ave</td>\n",
              "      <td>117.0</td>\n",
              "      <td>41.9401</td>\n",
              "      <td>-87.6455</td>\n",
              "      <td>41.9402</td>\n",
              "      <td>-87.6530</td>\n",
              "      <td>member</td>\n",
              "    </tr>\n",
              "    <tr>\n",
              "      <th>3</th>\n",
              "      <td>C9A388DAC6ABF313</td>\n",
              "      <td>docked_bike</td>\n",
              "      <td>2020-01-06 16:17:07</td>\n",
              "      <td>2020-01-06 16:25:56</td>\n",
              "      <td>Clark St &amp; Randolph St</td>\n",
              "      <td>51</td>\n",
              "      <td>Fairbanks Ct &amp; Grand Ave</td>\n",
              "      <td>24.0</td>\n",
              "      <td>41.8846</td>\n",
              "      <td>-87.6319</td>\n",
              "      <td>41.8918</td>\n",
              "      <td>-87.6206</td>\n",
              "      <td>member</td>\n",
              "    </tr>\n",
              "    <tr>\n",
              "      <th>4</th>\n",
              "      <td>943BC3CBECCFD662</td>\n",
              "      <td>docked_bike</td>\n",
              "      <td>2020-01-30 08:37:16</td>\n",
              "      <td>2020-01-30 08:42:48</td>\n",
              "      <td>Clinton St &amp; Lake St</td>\n",
              "      <td>66</td>\n",
              "      <td>Wells St &amp; Hubbard St</td>\n",
              "      <td>212.0</td>\n",
              "      <td>41.8856</td>\n",
              "      <td>-87.6418</td>\n",
              "      <td>41.8899</td>\n",
              "      <td>-87.6343</td>\n",
              "      <td>member</td>\n",
              "    </tr>\n",
              "  </tbody>\n",
              "</table>\n",
              "</div>\n",
              "    <div class=\"colab-df-buttons\">\n",
              "\n",
              "  <div class=\"colab-df-container\">\n",
              "    <button class=\"colab-df-convert\" onclick=\"convertToInteractive('df-1273b838-4ee2-4357-a005-cd606e178209')\"\n",
              "            title=\"Convert this dataframe to an interactive table.\"\n",
              "            style=\"display:none;\">\n",
              "\n",
              "  <svg xmlns=\"http://www.w3.org/2000/svg\" height=\"24px\" viewBox=\"0 -960 960 960\">\n",
              "    <path d=\"M120-120v-720h720v720H120Zm60-500h600v-160H180v160Zm220 220h160v-160H400v160Zm0 220h160v-160H400v160ZM180-400h160v-160H180v160Zm440 0h160v-160H620v160ZM180-180h160v-160H180v160Zm440 0h160v-160H620v160Z\"/>\n",
              "  </svg>\n",
              "    </button>\n",
              "\n",
              "  <style>\n",
              "    .colab-df-container {\n",
              "      display:flex;\n",
              "      gap: 12px;\n",
              "    }\n",
              "\n",
              "    .colab-df-convert {\n",
              "      background-color: #E8F0FE;\n",
              "      border: none;\n",
              "      border-radius: 50%;\n",
              "      cursor: pointer;\n",
              "      display: none;\n",
              "      fill: #1967D2;\n",
              "      height: 32px;\n",
              "      padding: 0 0 0 0;\n",
              "      width: 32px;\n",
              "    }\n",
              "\n",
              "    .colab-df-convert:hover {\n",
              "      background-color: #E2EBFA;\n",
              "      box-shadow: 0px 1px 2px rgba(60, 64, 67, 0.3), 0px 1px 3px 1px rgba(60, 64, 67, 0.15);\n",
              "      fill: #174EA6;\n",
              "    }\n",
              "\n",
              "    .colab-df-buttons div {\n",
              "      margin-bottom: 4px;\n",
              "    }\n",
              "\n",
              "    [theme=dark] .colab-df-convert {\n",
              "      background-color: #3B4455;\n",
              "      fill: #D2E3FC;\n",
              "    }\n",
              "\n",
              "    [theme=dark] .colab-df-convert:hover {\n",
              "      background-color: #434B5C;\n",
              "      box-shadow: 0px 1px 3px 1px rgba(0, 0, 0, 0.15);\n",
              "      filter: drop-shadow(0px 1px 2px rgba(0, 0, 0, 0.3));\n",
              "      fill: #FFFFFF;\n",
              "    }\n",
              "  </style>\n",
              "\n",
              "    <script>\n",
              "      const buttonEl =\n",
              "        document.querySelector('#df-1273b838-4ee2-4357-a005-cd606e178209 button.colab-df-convert');\n",
              "      buttonEl.style.display =\n",
              "        google.colab.kernel.accessAllowed ? 'block' : 'none';\n",
              "\n",
              "      async function convertToInteractive(key) {\n",
              "        const element = document.querySelector('#df-1273b838-4ee2-4357-a005-cd606e178209');\n",
              "        const dataTable =\n",
              "          await google.colab.kernel.invokeFunction('convertToInteractive',\n",
              "                                                    [key], {});\n",
              "        if (!dataTable) return;\n",
              "\n",
              "        const docLinkHtml = 'Like what you see? Visit the ' +\n",
              "          '<a target=\"_blank\" href=https://colab.research.google.com/notebooks/data_table.ipynb>data table notebook</a>'\n",
              "          + ' to learn more about interactive tables.';\n",
              "        element.innerHTML = '';\n",
              "        dataTable['output_type'] = 'display_data';\n",
              "        await google.colab.output.renderOutput(dataTable, element);\n",
              "        const docLink = document.createElement('div');\n",
              "        docLink.innerHTML = docLinkHtml;\n",
              "        element.appendChild(docLink);\n",
              "      }\n",
              "    </script>\n",
              "  </div>\n",
              "\n",
              "\n",
              "    <div id=\"df-84db83e7-b5b5-409f-a289-df4890e1b18b\">\n",
              "      <button class=\"colab-df-quickchart\" onclick=\"quickchart('df-84db83e7-b5b5-409f-a289-df4890e1b18b')\"\n",
              "                title=\"Suggest charts\"\n",
              "                style=\"display:none;\">\n",
              "\n",
              "<svg xmlns=\"http://www.w3.org/2000/svg\" height=\"24px\"viewBox=\"0 0 24 24\"\n",
              "     width=\"24px\">\n",
              "    <g>\n",
              "        <path d=\"M19 3H5c-1.1 0-2 .9-2 2v14c0 1.1.9 2 2 2h14c1.1 0 2-.9 2-2V5c0-1.1-.9-2-2-2zM9 17H7v-7h2v7zm4 0h-2V7h2v10zm4 0h-2v-4h2v4z\"/>\n",
              "    </g>\n",
              "</svg>\n",
              "      </button>\n",
              "\n",
              "<style>\n",
              "  .colab-df-quickchart {\n",
              "      --bg-color: #E8F0FE;\n",
              "      --fill-color: #1967D2;\n",
              "      --hover-bg-color: #E2EBFA;\n",
              "      --hover-fill-color: #174EA6;\n",
              "      --disabled-fill-color: #AAA;\n",
              "      --disabled-bg-color: #DDD;\n",
              "  }\n",
              "\n",
              "  [theme=dark] .colab-df-quickchart {\n",
              "      --bg-color: #3B4455;\n",
              "      --fill-color: #D2E3FC;\n",
              "      --hover-bg-color: #434B5C;\n",
              "      --hover-fill-color: #FFFFFF;\n",
              "      --disabled-bg-color: #3B4455;\n",
              "      --disabled-fill-color: #666;\n",
              "  }\n",
              "\n",
              "  .colab-df-quickchart {\n",
              "    background-color: var(--bg-color);\n",
              "    border: none;\n",
              "    border-radius: 50%;\n",
              "    cursor: pointer;\n",
              "    display: none;\n",
              "    fill: var(--fill-color);\n",
              "    height: 32px;\n",
              "    padding: 0;\n",
              "    width: 32px;\n",
              "  }\n",
              "\n",
              "  .colab-df-quickchart:hover {\n",
              "    background-color: var(--hover-bg-color);\n",
              "    box-shadow: 0 1px 2px rgba(60, 64, 67, 0.3), 0 1px 3px 1px rgba(60, 64, 67, 0.15);\n",
              "    fill: var(--button-hover-fill-color);\n",
              "  }\n",
              "\n",
              "  .colab-df-quickchart-complete:disabled,\n",
              "  .colab-df-quickchart-complete:disabled:hover {\n",
              "    background-color: var(--disabled-bg-color);\n",
              "    fill: var(--disabled-fill-color);\n",
              "    box-shadow: none;\n",
              "  }\n",
              "\n",
              "  .colab-df-spinner {\n",
              "    border: 2px solid var(--fill-color);\n",
              "    border-color: transparent;\n",
              "    border-bottom-color: var(--fill-color);\n",
              "    animation:\n",
              "      spin 1s steps(1) infinite;\n",
              "  }\n",
              "\n",
              "  @keyframes spin {\n",
              "    0% {\n",
              "      border-color: transparent;\n",
              "      border-bottom-color: var(--fill-color);\n",
              "      border-left-color: var(--fill-color);\n",
              "    }\n",
              "    20% {\n",
              "      border-color: transparent;\n",
              "      border-left-color: var(--fill-color);\n",
              "      border-top-color: var(--fill-color);\n",
              "    }\n",
              "    30% {\n",
              "      border-color: transparent;\n",
              "      border-left-color: var(--fill-color);\n",
              "      border-top-color: var(--fill-color);\n",
              "      border-right-color: var(--fill-color);\n",
              "    }\n",
              "    40% {\n",
              "      border-color: transparent;\n",
              "      border-right-color: var(--fill-color);\n",
              "      border-top-color: var(--fill-color);\n",
              "    }\n",
              "    60% {\n",
              "      border-color: transparent;\n",
              "      border-right-color: var(--fill-color);\n",
              "    }\n",
              "    80% {\n",
              "      border-color: transparent;\n",
              "      border-right-color: var(--fill-color);\n",
              "      border-bottom-color: var(--fill-color);\n",
              "    }\n",
              "    90% {\n",
              "      border-color: transparent;\n",
              "      border-bottom-color: var(--fill-color);\n",
              "    }\n",
              "  }\n",
              "</style>\n",
              "\n",
              "      <script>\n",
              "        async function quickchart(key) {\n",
              "          const quickchartButtonEl =\n",
              "            document.querySelector('#' + key + ' button');\n",
              "          quickchartButtonEl.disabled = true;  // To prevent multiple clicks.\n",
              "          quickchartButtonEl.classList.add('colab-df-spinner');\n",
              "          try {\n",
              "            const charts = await google.colab.kernel.invokeFunction(\n",
              "                'suggestCharts', [key], {});\n",
              "          } catch (error) {\n",
              "            console.error('Error during call to suggestCharts:', error);\n",
              "          }\n",
              "          quickchartButtonEl.classList.remove('colab-df-spinner');\n",
              "          quickchartButtonEl.classList.add('colab-df-quickchart-complete');\n",
              "        }\n",
              "        (() => {\n",
              "          let quickchartButtonEl =\n",
              "            document.querySelector('#df-84db83e7-b5b5-409f-a289-df4890e1b18b button');\n",
              "          quickchartButtonEl.style.display =\n",
              "            google.colab.kernel.accessAllowed ? 'block' : 'none';\n",
              "        })();\n",
              "      </script>\n",
              "    </div>\n",
              "\n",
              "    </div>\n",
              "  </div>\n"
            ],
            "application/vnd.google.colaboratory.intrinsic+json": {
              "type": "dataframe",
              "variable_name": "final_combined_df"
            }
          },
          "metadata": {},
          "execution_count": 7
        }
      ]
    },
    {
      "cell_type": "markdown",
      "source": [
        "## Checking the shape (column and row data) on the dataset extracted\n",
        "---"
      ],
      "metadata": {
        "id": "44c6R1DBYp6x"
      }
    },
    {
      "cell_type": "code",
      "source": [
        "final_combined_df.shape"
      ],
      "metadata": {
        "colab": {
          "base_uri": "https://localhost:8080/"
        },
        "id": "Wwmz-bb_lw2p",
        "outputId": "14433bd3-3b61-4143-d54f-d8c96ef95b14"
      },
      "execution_count": 8,
      "outputs": [
        {
          "output_type": "execute_result",
          "data": {
            "text/plain": [
              "(426887, 13)"
            ]
          },
          "metadata": {},
          "execution_count": 8
        }
      ]
    },
    {
      "cell_type": "markdown",
      "source": [
        "# Exporting and Downloading the data that are already extracted\n",
        "---"
      ],
      "metadata": {
        "id": "sK5UEo06YxbM"
      }
    },
    {
      "cell_type": "code",
      "source": [
        "from google.colab import files\n",
        "\n",
        "# Check if the dataframe exists and is not empty before exporting\n",
        "if 'final_combined_df' in locals() and not final_combined_df.empty:\n",
        "  # Define the name for the downloadable CSV file\n",
        "  output_filename = CSV_FILE_NAME # Using the predefined filename\n",
        "\n",
        "  # Export the DataFrame to a CSV file in the Colab environment\n",
        "  final_combined_df.to_csv(output_filename, index=False)\n",
        "\n",
        "  # Make the file available for download\n",
        "  print(f\"\\n✅ Exported DataFrame to '{output_filename}'. Downloading...\")\n",
        "  files.download(output_filename)\n",
        "\n",
        "else:\n",
        "  print(\"\\n⚠️ final_combined_df does not exist or is empty. Cannot export.\")\n"
      ],
      "metadata": {
        "colab": {
          "base_uri": "https://localhost:8080/",
          "height": 54
        },
        "id": "i08Mf3NNl15Q",
        "outputId": "485219e4-e0bc-4c4f-c9ba-3f22a7116a2a"
      },
      "execution_count": 9,
      "outputs": [
        {
          "output_type": "stream",
          "name": "stdout",
          "text": [
            "\n",
            "✅ Exported DataFrame to 'Fixed_Dataset.csv'. Downloading...\n"
          ]
        },
        {
          "output_type": "display_data",
          "data": {
            "text/plain": [
              "<IPython.core.display.Javascript object>"
            ],
            "application/javascript": [
              "\n",
              "    async function download(id, filename, size) {\n",
              "      if (!google.colab.kernel.accessAllowed) {\n",
              "        return;\n",
              "      }\n",
              "      const div = document.createElement('div');\n",
              "      const label = document.createElement('label');\n",
              "      label.textContent = `Downloading \"${filename}\": `;\n",
              "      div.appendChild(label);\n",
              "      const progress = document.createElement('progress');\n",
              "      progress.max = size;\n",
              "      div.appendChild(progress);\n",
              "      document.body.appendChild(div);\n",
              "\n",
              "      const buffers = [];\n",
              "      let downloaded = 0;\n",
              "\n",
              "      const channel = await google.colab.kernel.comms.open(id);\n",
              "      // Send a message to notify the kernel that we're ready.\n",
              "      channel.send({})\n",
              "\n",
              "      for await (const message of channel.messages) {\n",
              "        // Send a message to notify the kernel that we're ready.\n",
              "        channel.send({})\n",
              "        if (message.buffers) {\n",
              "          for (const buffer of message.buffers) {\n",
              "            buffers.push(buffer);\n",
              "            downloaded += buffer.byteLength;\n",
              "            progress.value = downloaded;\n",
              "          }\n",
              "        }\n",
              "      }\n",
              "      const blob = new Blob(buffers, {type: 'application/binary'});\n",
              "      const a = document.createElement('a');\n",
              "      a.href = window.URL.createObjectURL(blob);\n",
              "      a.download = filename;\n",
              "      div.appendChild(a);\n",
              "      a.click();\n",
              "      div.remove();\n",
              "    }\n",
              "  "
            ]
          },
          "metadata": {}
        },
        {
          "output_type": "display_data",
          "data": {
            "text/plain": [
              "<IPython.core.display.Javascript object>"
            ],
            "application/javascript": [
              "download(\"download_c90d580f-eeff-4fd4-b0a6-c9db0fe90123\", \"Fixed_Dataset.csv\", 71699899)"
            ]
          },
          "metadata": {}
        }
      ]
    },
    {
      "cell_type": "code",
      "source": [
        "# prompt: hitung jumlah data pada csv\n",
        "\n",
        "# The number of rows (data points) in the combined dataframe\n",
        "num_data_points = final_combined_df.shape[0]\n",
        "\n",
        "print(f\"Total number of data points (rows) in the final combined DataFrame: {num_data_points}\")"
      ],
      "metadata": {
        "id": "zRDmTK6HmCRx",
        "colab": {
          "base_uri": "https://localhost:8080/"
        },
        "outputId": "57e458b4-e492-481c-b530-1eb34e741400"
      },
      "execution_count": 10,
      "outputs": [
        {
          "output_type": "stream",
          "name": "stdout",
          "text": [
            "Total number of data points (rows) in the final combined DataFrame: 426887\n"
          ]
        }
      ]
    }
  ]
}